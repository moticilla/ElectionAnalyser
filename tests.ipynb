{
 "cells": [
  {
   "cell_type": "code",
   "execution_count": 2,
   "metadata": {},
   "outputs": [
    {
     "name": "stdout",
     "output_type": "stream",
     "text": [
      "Equilibria for 2 players and 2 spaces:\n",
      "2 0 \n",
      "1 1 \n",
      "0 2 \n"
     ]
    }
   ],
   "source": [
    "from election import Election\n",
    "\n",
    "Election.print_all_equilibria(2,2)"
   ]
  },
  {
   "cell_type": "code",
   "execution_count": 2,
   "metadata": {},
   "outputs": [
    {
     "name": "stdout",
     "output_type": "stream",
     "text": [
      "Equilibria for 1 players and 2 spaces:\n",
      "1 0 \n",
      "0 1 \n"
     ]
    }
   ],
   "source": [
    "Election.print_all_equilibria(1,2)"
   ]
  },
  {
   "cell_type": "code",
   "execution_count": 4,
   "metadata": {},
   "outputs": [
    {
     "name": "stdout",
     "output_type": "stream",
     "text": [
      "Equilibria for 3 players and 3 spaces:\n",
      "1 2 0 \n",
      "1 1 1 \n",
      "0 3 0 \n",
      "0 2 1 \n"
     ]
    }
   ],
   "source": [
    "Election.print_all_equilibria(3,3)"
   ]
  },
  {
   "cell_type": "code",
   "execution_count": 3,
   "metadata": {},
   "outputs": [
    {
     "name": "stdout",
     "output_type": "stream",
     "text": [
      "1\n",
      "2\n",
      "3\n",
      "4\n",
      "4\n",
      "4\n",
      "5\n",
      "2\n",
      "4\n",
      "4\n",
      "4\n",
      "4\n",
      "5\n",
      "2\n",
      "4\n",
      "4\n",
      "4\n",
      "4\n",
      "5\n",
      "2\n",
      "4\n",
      "4\n",
      "4\n",
      "4\n",
      "5\n",
      "2\n",
      "4\n"
     ]
    },
    {
     "ename": "KeyboardInterrupt",
     "evalue": "",
     "output_type": "error",
     "traceback": [
      "\u001b[1;31m---------------------------------------------------------------------------\u001b[0m",
      "\u001b[1;31mKeyboardInterrupt\u001b[0m                         Traceback (most recent call last)",
      "\u001b[1;32mc:\\Users\\akesh\\source\\ElectionAnalyser\\tests.ipynb Cell 4\u001b[0m line \u001b[0;36m3\n\u001b[0;32m      <a href='vscode-notebook-cell:/c%3A/Users/akesh/source/ElectionAnalyser/tests.ipynb#W2sZmlsZQ%3D%3D?line=0'>1</a>\u001b[0m s \u001b[39m=\u001b[39m \u001b[39m1\u001b[39m\n\u001b[0;32m      <a href='vscode-notebook-cell:/c%3A/Users/akesh/source/ElectionAnalyser/tests.ipynb#W2sZmlsZQ%3D%3D?line=1'>2</a>\u001b[0m \u001b[39mwhile\u001b[39;00m \u001b[39mTrue\u001b[39;00m:\n\u001b[1;32m----> <a href='vscode-notebook-cell:/c%3A/Users/akesh/source/ElectionAnalyser/tests.ipynb#W2sZmlsZQ%3D%3D?line=2'>3</a>\u001b[0m     found_any, equilibria \u001b[39m=\u001b[39m Election\u001b[39m.\u001b[39;49mthorough_find_all_equilibria(\u001b[39m5\u001b[39;49m,s)\n\u001b[0;32m      <a href='vscode-notebook-cell:/c%3A/Users/akesh/source/ElectionAnalyser/tests.ipynb#W2sZmlsZQ%3D%3D?line=3'>4</a>\u001b[0m     \u001b[39mprint\u001b[39m(\u001b[39mlen\u001b[39m(equilibria))\n\u001b[0;32m      <a href='vscode-notebook-cell:/c%3A/Users/akesh/source/ElectionAnalyser/tests.ipynb#W2sZmlsZQ%3D%3D?line=4'>5</a>\u001b[0m     s \u001b[39m+\u001b[39m\u001b[39m=\u001b[39m \u001b[39m1\u001b[39m\n",
      "File \u001b[1;32mc:\\Users\\akesh\\source\\ElectionAnalyser\\election.py:168\u001b[0m, in \u001b[0;36mElection.thorough_find_all_equilibria\u001b[1;34m(self, num_players, num_spaces)\u001b[0m\n\u001b[0;32m    165\u001b[0m election \u001b[39m=\u001b[39m Election\u001b[39m.\u001b[39mcreate_from_count_and_positions(num_spaces, players_positions)\n\u001b[0;32m    167\u001b[0m \u001b[39m# Check for equilibrium\u001b[39;00m\n\u001b[1;32m--> 168\u001b[0m is_equilibrium \u001b[39m=\u001b[39m election\u001b[39m.\u001b[39;49mcheck_equilibrium()\n\u001b[0;32m    170\u001b[0m \u001b[39mif\u001b[39;00m is_equilibrium:\n\u001b[0;32m    171\u001b[0m     equilibria\u001b[39m.\u001b[39mappend(election)\n",
      "File \u001b[1;32mc:\\Users\\akesh\\source\\ElectionAnalyser\\election.py:91\u001b[0m, in \u001b[0;36mElection.check_equilibrium\u001b[1;34m(self)\u001b[0m\n\u001b[0;32m     87\u001b[0m current_payoff \u001b[39m=\u001b[39m \u001b[39mself\u001b[39m\u001b[39m.\u001b[39mget_player_payoffs()[player]\n\u001b[0;32m     89\u001b[0m \u001b[39mfor\u001b[39;00m space \u001b[39min\u001b[39;00m \u001b[39mrange\u001b[39m(\u001b[39mlen\u001b[39m(\u001b[39mself\u001b[39m\u001b[39m.\u001b[39mlayout)):\n\u001b[0;32m     90\u001b[0m     \u001b[39m# Create a new Election object for each iteration (do we strictly need to create a new one, or could we just store the original and restore when needed?)\u001b[39;00m\n\u001b[1;32m---> 91\u001b[0m     new_election \u001b[39m=\u001b[39m Election(\u001b[39mself\u001b[39;49m\u001b[39m.\u001b[39;49mlayout\u001b[39m.\u001b[39;49mcopy())\n\u001b[0;32m     92\u001b[0m     new_election\u001b[39m.\u001b[39mspace_of_player \u001b[39m=\u001b[39m \u001b[39mself\u001b[39m\u001b[39m.\u001b[39mspace_of_player\u001b[39m.\u001b[39mcopy()\n\u001b[0;32m     94\u001b[0m     \u001b[39m# Move the player to the new space\u001b[39;00m\n",
      "File \u001b[1;32mc:\\Users\\akesh\\source\\ElectionAnalyser\\election.py:10\u001b[0m, in \u001b[0;36mElection.__init__\u001b[1;34m(self, layout)\u001b[0m\n\u001b[0;32m      9\u001b[0m \u001b[39mdef\u001b[39;00m \u001b[39m__init__\u001b[39m(\u001b[39mself\u001b[39m, layout: \u001b[39mlist\u001b[39m[\u001b[39mint\u001b[39m]):\n\u001b[1;32m---> 10\u001b[0m     \u001b[39mself\u001b[39m\u001b[39m.\u001b[39mlayout \u001b[39m=\u001b[39m np\u001b[39m.\u001b[39;49marray(layout)\n\u001b[0;32m     11\u001b[0m     \u001b[39mself\u001b[39m\u001b[39m.\u001b[39mspace_of_player \u001b[39m=\u001b[39m {}\n\u001b[0;32m     12\u001b[0m     \u001b[39m# Assign players numbers\u001b[39;00m\n",
      "\u001b[1;31mKeyboardInterrupt\u001b[0m: "
     ]
    }
   ],
   "source": [
    "s = 1\n",
    "while True:\n",
    "    found_any, equilibria = Election.thorough_find_all_equilibria(5,s)\n",
    "    print(len(equilibria))\n",
    "    s += 1"
   ]
  },
  {
   "cell_type": "code",
   "execution_count": 9,
   "metadata": {},
   "outputs": [
    {
     "ename": "KeyboardInterrupt",
     "evalue": "",
     "output_type": "error",
     "traceback": [
      "\u001b[1;31m---------------------------------------------------------------------------\u001b[0m",
      "\u001b[1;31mKeyboardInterrupt\u001b[0m                         Traceback (most recent call last)",
      "\u001b[1;32mc:\\Users\\akesh\\source\\ElectionAnalyser\\tests.ipynb Cell 5\u001b[0m line \u001b[0;36m7\n\u001b[0;32m      <a href='vscode-notebook-cell:/c%3A/Users/akesh/source/ElectionAnalyser/tests.ipynb#W4sZmlsZQ%3D%3D?line=4'>5</a>\u001b[0m n \u001b[39m=\u001b[39m \u001b[39m0\u001b[39m\n\u001b[0;32m      <a href='vscode-notebook-cell:/c%3A/Users/akesh/source/ElectionAnalyser/tests.ipynb#W4sZmlsZQ%3D%3D?line=5'>6</a>\u001b[0m election \u001b[39m=\u001b[39m Election\u001b[39m.\u001b[39mcreate_from_string(str_layout \u001b[39m+\u001b[39m n\u001b[39m*\u001b[39m\u001b[39m\"\u001b[39m\u001b[39m0\u001b[39m\u001b[39m\"\u001b[39m \u001b[39m+\u001b[39m str_layout)\n\u001b[1;32m----> <a href='vscode-notebook-cell:/c%3A/Users/akesh/source/ElectionAnalyser/tests.ipynb#W4sZmlsZQ%3D%3D?line=6'>7</a>\u001b[0m \u001b[39mif\u001b[39;00m election\u001b[39m.\u001b[39;49mcheck_equilibrium():\n\u001b[0;32m      <a href='vscode-notebook-cell:/c%3A/Users/akesh/source/ElectionAnalyser/tests.ipynb#W4sZmlsZQ%3D%3D?line=7'>8</a>\u001b[0m     \u001b[39mprint\u001b[39m(\u001b[39m\"\u001b[39m\u001b[39myay! \u001b[39m\u001b[39m\"\u001b[39m, n)\n\u001b[0;32m      <a href='vscode-notebook-cell:/c%3A/Users/akesh/source/ElectionAnalyser/tests.ipynb#W4sZmlsZQ%3D%3D?line=8'>9</a>\u001b[0m     \u001b[39mbreak\u001b[39;00m\n",
      "File \u001b[1;32mc:\\Users\\akesh\\source\\ElectionAnalyser\\election.py:91\u001b[0m, in \u001b[0;36mcheck_equilibrium\u001b[1;34m(self)\u001b[0m\n\u001b[0;32m     87\u001b[0m current_position = self.space_of_player[player]\n\u001b[0;32m     88\u001b[0m current_payoff = self.get_player_payoffs()[player]\n\u001b[0;32m     90\u001b[0m for space in range(len(self.layout)):\n\u001b[1;32m---> 91\u001b[0m     # Create a new Election object for each iteration (do we strictly need to create a new one, or could we just store the original and restore when needed?)\n\u001b[0;32m     92\u001b[0m     new_election = Election(self.layout.copy())\n\u001b[0;32m     93\u001b[0m     new_election.space_of_player = self.space_of_player.copy()\n",
      "File \u001b[1;32mc:\\Users\\akesh\\source\\ElectionAnalyser\\election.py:10\u001b[0m, in \u001b[0;36mElection.__init__\u001b[1;34m(self, layout)\u001b[0m\n\u001b[0;32m      9\u001b[0m \u001b[39mdef\u001b[39;00m \u001b[39m__init__\u001b[39m(\u001b[39mself\u001b[39m, layout: \u001b[39mlist\u001b[39m[\u001b[39mint\u001b[39m]):\n\u001b[1;32m---> 10\u001b[0m     \u001b[39mself\u001b[39m\u001b[39m.\u001b[39mlayout \u001b[39m=\u001b[39m np\u001b[39m.\u001b[39;49marray(layout)\n\u001b[0;32m     11\u001b[0m     \u001b[39mself\u001b[39m\u001b[39m.\u001b[39mspace_of_player \u001b[39m=\u001b[39m {}\n\u001b[0;32m     12\u001b[0m     \u001b[39m# Assign players numbers\u001b[39;00m\n",
      "\u001b[1;31mKeyboardInterrupt\u001b[0m: "
     ]
    }
   ],
   "source": [
    "str_layout = \"1111020\"\n",
    "str_layout = \"0210\"\n",
    "\n",
    "while True:\n",
    "    n = 0\n",
    "    election = Election.create_from_string(str_layout + n*\"0\" + str_layout)\n",
    "    if election.check_equilibrium():\n",
    "        print(\"yay! \", n)\n",
    "        break\n",
    "    n += 1"
   ]
  },
  {
   "cell_type": "code",
   "execution_count": 13,
   "metadata": {},
   "outputs": [
    {
     "name": "stdout",
     "output_type": "stream",
     "text": [
      "0 1 1 0 0 1 1 0 1 0 0 1 0 1 1 0 \n"
     ]
    }
   ],
   "source": [
    "statement, election = election.random_find_equilibrium(8, 16)\n",
    "print(election)"
   ]
  },
  {
   "cell_type": "code",
   "execution_count": 15,
   "metadata": {},
   "outputs": [
    {
     "data": {
      "text/plain": [
       "True"
      ]
     },
     "execution_count": 15,
     "metadata": {},
     "output_type": "execute_result"
    }
   ],
   "source": [
    "election = Election.create_from_string(\"0110011001100110\")\n",
    "election.check_equilibrium()"
   ]
  },
  {
   "cell_type": "code",
   "execution_count": 16,
   "metadata": {},
   "outputs": [
    {
     "ename": "SyntaxError",
     "evalue": "expected '(' (312348863.py, line 1)",
     "output_type": "error",
     "traceback": [
      "\u001b[1;36m  Cell \u001b[1;32mIn[16], line 1\u001b[1;36m\u001b[0m\n\u001b[1;33m    def concat\u001b[0m\n\u001b[1;37m              ^\u001b[0m\n\u001b[1;31mSyntaxError\u001b[0m\u001b[1;31m:\u001b[0m expected '('\n"
     ]
    }
   ],
   "source": [
    "def concat"
   ]
  }
 ],
 "metadata": {
  "kernelspec": {
   "display_name": "Python 3",
   "language": "python",
   "name": "python3"
  },
  "language_info": {
   "codemirror_mode": {
    "name": "ipython",
    "version": 3
   },
   "file_extension": ".py",
   "mimetype": "text/x-python",
   "name": "python",
   "nbconvert_exporter": "python",
   "pygments_lexer": "ipython3",
   "version": "3.12.0"
  }
 },
 "nbformat": 4,
 "nbformat_minor": 2
}
