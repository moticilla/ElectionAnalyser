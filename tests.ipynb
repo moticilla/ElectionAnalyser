{
 "cells": [
  {
   "cell_type": "code",
   "execution_count": 13,
   "metadata": {},
   "outputs": [
    {
     "name": "stdout",
     "output_type": "stream",
     "text": [
      "Equilibria for 2 players and 2 spaces:\n",
      "2 0 \n",
      "1 1 \n",
      "0 2 \n"
     ]
    }
   ],
   "source": [
    "from election import Election\n",
    "\n",
    "Election.print_all_equilibria(2,2)"
   ]
  },
  {
   "cell_type": "code",
   "execution_count": 9,
   "metadata": {},
   "outputs": [
    {
     "name": "stdout",
     "output_type": "stream",
     "text": [
      "Equilibria for 1 players and 2 spaces:\n",
      "1 0 \n",
      "0 1 \n"
     ]
    }
   ],
   "source": [
    "Election.print_all_equilibria(1,2)"
   ]
  },
  {
   "cell_type": "code",
   "execution_count": 10,
   "metadata": {},
   "outputs": [
    {
     "name": "stdout",
     "output_type": "stream",
     "text": [
      "Equilibria for 3 players and 3 spaces:\n",
      "1 2 0 \n",
      "1 1 1 \n",
      "0 3 0 \n",
      "0 2 1 \n"
     ]
    }
   ],
   "source": [
    "Election.print_all_equilibria(3,3)"
   ]
  },
  {
   "cell_type": "code",
   "execution_count": 11,
   "metadata": {},
   "outputs": [
    {
     "name": "stdout",
     "output_type": "stream",
     "text": [
      "Equilibria for 3 players and 4 spaces:\n",
      "0 2 1 0 \n",
      "0 1 2 0 \n"
     ]
    }
   ],
   "source": [
    "Election.print_all_equilibria(3, 4)"
   ]
  },
  {
   "cell_type": "code",
   "execution_count": 3,
   "metadata": {},
   "outputs": [
    {
     "name": "stdout",
     "output_type": "stream",
     "text": [
      "1\n",
      "2\n",
      "3\n",
      "4\n",
      "4\n",
      "4\n",
      "5\n",
      "2\n",
      "4\n",
      "4\n",
      "4\n",
      "4\n",
      "5\n",
      "2\n",
      "4\n",
      "4\n",
      "4\n",
      "4\n",
      "5\n",
      "2\n",
      "4\n",
      "4\n",
      "4\n",
      "4\n",
      "5\n",
      "2\n",
      "4\n"
     ]
    },
    {
     "ename": "KeyboardInterrupt",
     "evalue": "",
     "output_type": "error",
     "traceback": [
      "\u001b[1;31m---------------------------------------------------------------------------\u001b[0m",
      "\u001b[1;31mKeyboardInterrupt\u001b[0m                         Traceback (most recent call last)",
      "\u001b[1;32mc:\\Users\\akesh\\source\\ElectionAnalyser\\tests.ipynb Cell 4\u001b[0m line \u001b[0;36m3\n\u001b[0;32m      <a href='vscode-notebook-cell:/c%3A/Users/akesh/source/ElectionAnalyser/tests.ipynb#W2sZmlsZQ%3D%3D?line=0'>1</a>\u001b[0m s \u001b[39m=\u001b[39m \u001b[39m1\u001b[39m\n\u001b[0;32m      <a href='vscode-notebook-cell:/c%3A/Users/akesh/source/ElectionAnalyser/tests.ipynb#W2sZmlsZQ%3D%3D?line=1'>2</a>\u001b[0m \u001b[39mwhile\u001b[39;00m \u001b[39mTrue\u001b[39;00m:\n\u001b[1;32m----> <a href='vscode-notebook-cell:/c%3A/Users/akesh/source/ElectionAnalyser/tests.ipynb#W2sZmlsZQ%3D%3D?line=2'>3</a>\u001b[0m     found_any, equilibria \u001b[39m=\u001b[39m Election\u001b[39m.\u001b[39;49mthorough_find_all_equilibria(\u001b[39m5\u001b[39;49m,s)\n\u001b[0;32m      <a href='vscode-notebook-cell:/c%3A/Users/akesh/source/ElectionAnalyser/tests.ipynb#W2sZmlsZQ%3D%3D?line=3'>4</a>\u001b[0m     \u001b[39mprint\u001b[39m(\u001b[39mlen\u001b[39m(equilibria))\n\u001b[0;32m      <a href='vscode-notebook-cell:/c%3A/Users/akesh/source/ElectionAnalyser/tests.ipynb#W2sZmlsZQ%3D%3D?line=4'>5</a>\u001b[0m     s \u001b[39m+\u001b[39m\u001b[39m=\u001b[39m \u001b[39m1\u001b[39m\n",
      "File \u001b[1;32mc:\\Users\\akesh\\source\\ElectionAnalyser\\election.py:168\u001b[0m, in \u001b[0;36mElection.thorough_find_all_equilibria\u001b[1;34m(self, num_players, num_spaces)\u001b[0m\n\u001b[0;32m    165\u001b[0m election \u001b[39m=\u001b[39m Election\u001b[39m.\u001b[39mcreate_from_count_and_positions(num_spaces, players_positions)\n\u001b[0;32m    167\u001b[0m \u001b[39m# Check for equilibrium\u001b[39;00m\n\u001b[1;32m--> 168\u001b[0m is_equilibrium \u001b[39m=\u001b[39m election\u001b[39m.\u001b[39;49mcheck_equilibrium()\n\u001b[0;32m    170\u001b[0m \u001b[39mif\u001b[39;00m is_equilibrium:\n\u001b[0;32m    171\u001b[0m     equilibria\u001b[39m.\u001b[39mappend(election)\n",
      "File \u001b[1;32mc:\\Users\\akesh\\source\\ElectionAnalyser\\election.py:91\u001b[0m, in \u001b[0;36mElection.check_equilibrium\u001b[1;34m(self)\u001b[0m\n\u001b[0;32m     87\u001b[0m current_payoff \u001b[39m=\u001b[39m \u001b[39mself\u001b[39m\u001b[39m.\u001b[39mget_player_payoffs()[player]\n\u001b[0;32m     89\u001b[0m \u001b[39mfor\u001b[39;00m space \u001b[39min\u001b[39;00m \u001b[39mrange\u001b[39m(\u001b[39mlen\u001b[39m(\u001b[39mself\u001b[39m\u001b[39m.\u001b[39mlayout)):\n\u001b[0;32m     90\u001b[0m     \u001b[39m# Create a new Election object for each iteration (do we strictly need to create a new one, or could we just store the original and restore when needed?)\u001b[39;00m\n\u001b[1;32m---> 91\u001b[0m     new_election \u001b[39m=\u001b[39m Election(\u001b[39mself\u001b[39;49m\u001b[39m.\u001b[39;49mlayout\u001b[39m.\u001b[39;49mcopy())\n\u001b[0;32m     92\u001b[0m     new_election\u001b[39m.\u001b[39mspace_of_player \u001b[39m=\u001b[39m \u001b[39mself\u001b[39m\u001b[39m.\u001b[39mspace_of_player\u001b[39m.\u001b[39mcopy()\n\u001b[0;32m     94\u001b[0m     \u001b[39m# Move the player to the new space\u001b[39;00m\n",
      "File \u001b[1;32mc:\\Users\\akesh\\source\\ElectionAnalyser\\election.py:10\u001b[0m, in \u001b[0;36mElection.__init__\u001b[1;34m(self, layout)\u001b[0m\n\u001b[0;32m      9\u001b[0m \u001b[39mdef\u001b[39;00m \u001b[39m__init__\u001b[39m(\u001b[39mself\u001b[39m, layout: \u001b[39mlist\u001b[39m[\u001b[39mint\u001b[39m]):\n\u001b[1;32m---> 10\u001b[0m     \u001b[39mself\u001b[39m\u001b[39m.\u001b[39mlayout \u001b[39m=\u001b[39m np\u001b[39m.\u001b[39;49marray(layout)\n\u001b[0;32m     11\u001b[0m     \u001b[39mself\u001b[39m\u001b[39m.\u001b[39mspace_of_player \u001b[39m=\u001b[39m {}\n\u001b[0;32m     12\u001b[0m     \u001b[39m# Assign players numbers\u001b[39;00m\n",
      "\u001b[1;31mKeyboardInterrupt\u001b[0m: "
     ]
    }
   ],
   "source": [
    "s = 1\n",
    "while True:\n",
    "    found_any, equilibria = Election.thorough_find_all_equilibria(5,s)\n",
    "    print(len(equilibria))\n",
    "    s += 1"
   ]
  },
  {
   "cell_type": "code",
   "execution_count": 9,
   "metadata": {},
   "outputs": [
    {
     "ename": "KeyboardInterrupt",
     "evalue": "",
     "output_type": "error",
     "traceback": [
      "\u001b[1;31m---------------------------------------------------------------------------\u001b[0m",
      "\u001b[1;31mKeyboardInterrupt\u001b[0m                         Traceback (most recent call last)",
      "\u001b[1;32mc:\\Users\\akesh\\source\\ElectionAnalyser\\tests.ipynb Cell 6\u001b[0m line \u001b[0;36m8\n\u001b[0;32m      <a href='vscode-notebook-cell:/c%3A/Users/akesh/source/ElectionAnalyser/tests.ipynb#W5sZmlsZQ%3D%3D?line=5'>6</a>\u001b[0m n \u001b[39m=\u001b[39m \u001b[39m0\u001b[39m\n\u001b[0;32m      <a href='vscode-notebook-cell:/c%3A/Users/akesh/source/ElectionAnalyser/tests.ipynb#W5sZmlsZQ%3D%3D?line=6'>7</a>\u001b[0m election \u001b[39m=\u001b[39m Election\u001b[39m.\u001b[39mcreate_from_string(str_layout \u001b[39m+\u001b[39m n\u001b[39m*\u001b[39m\u001b[39m\"\u001b[39m\u001b[39m0\u001b[39m\u001b[39m\"\u001b[39m \u001b[39m+\u001b[39m str_layout)\n\u001b[1;32m----> <a href='vscode-notebook-cell:/c%3A/Users/akesh/source/ElectionAnalyser/tests.ipynb#W5sZmlsZQ%3D%3D?line=7'>8</a>\u001b[0m \u001b[39mif\u001b[39;00m election\u001b[39m.\u001b[39;49mcheck_equilibrium():\n\u001b[0;32m      <a href='vscode-notebook-cell:/c%3A/Users/akesh/source/ElectionAnalyser/tests.ipynb#W5sZmlsZQ%3D%3D?line=8'>9</a>\u001b[0m     \u001b[39mprint\u001b[39m(\u001b[39m\"\u001b[39m\u001b[39myay! \u001b[39m\u001b[39m\"\u001b[39m, n)\n\u001b[0;32m     <a href='vscode-notebook-cell:/c%3A/Users/akesh/source/ElectionAnalyser/tests.ipynb#W5sZmlsZQ%3D%3D?line=9'>10</a>\u001b[0m     \u001b[39mbreak\u001b[39;00m\n",
      "File \u001b[1;32mc:\\Users\\akesh\\source\\ElectionAnalyser\\election.py:99\u001b[0m, in \u001b[0;36mElection.check_equilibrium\u001b[1;34m(self)\u001b[0m\n\u001b[0;32m     95\u001b[0m current_payoff \u001b[39m=\u001b[39m \u001b[39mself\u001b[39m\u001b[39m.\u001b[39mget_player_payoffs()[player]\n\u001b[0;32m     97\u001b[0m \u001b[39mfor\u001b[39;00m space \u001b[39min\u001b[39;00m \u001b[39mrange\u001b[39m(\u001b[39mlen\u001b[39m(\u001b[39mself\u001b[39m\u001b[39m.\u001b[39mlayout)):\n\u001b[0;32m     98\u001b[0m     \u001b[39m# Create a new Election object for each iteration (do we strictly need to create a new one, or could we just store the original and restore when needed?)\u001b[39;00m\n\u001b[1;32m---> 99\u001b[0m     new_election \u001b[39m=\u001b[39m Election(\u001b[39mself\u001b[39;49m\u001b[39m.\u001b[39;49mlayout\u001b[39m.\u001b[39;49mcopy())\n\u001b[0;32m    100\u001b[0m     new_election\u001b[39m.\u001b[39mspace_of_player \u001b[39m=\u001b[39m \u001b[39mself\u001b[39m\u001b[39m.\u001b[39mspace_of_player\u001b[39m.\u001b[39mcopy()\n\u001b[0;32m    102\u001b[0m     \u001b[39m# Move the player to the new space\u001b[39;00m\n",
      "File \u001b[1;32mc:\\Users\\akesh\\source\\ElectionAnalyser\\election.py:10\u001b[0m, in \u001b[0;36mElection.__init__\u001b[1;34m(self, layout)\u001b[0m\n\u001b[0;32m      9\u001b[0m \u001b[39mdef\u001b[39;00m \u001b[39m__init__\u001b[39m(\u001b[39mself\u001b[39m, layout):\n\u001b[1;32m---> 10\u001b[0m     \u001b[39mself\u001b[39m\u001b[39m.\u001b[39mlayout \u001b[39m=\u001b[39m np\u001b[39m.\u001b[39;49marray(layout)\n\u001b[0;32m     11\u001b[0m     \u001b[39mself\u001b[39m\u001b[39m.\u001b[39mspace_of_player \u001b[39m=\u001b[39m {}\n\u001b[0;32m     12\u001b[0m     \u001b[39m# Assign players numbers\u001b[39;00m\n",
      "\u001b[1;31mKeyboardInterrupt\u001b[0m: "
     ]
    }
   ],
   "source": [
    "str_layout = \"1111020\"\n",
    "str_layout = \"0110\"\n",
    "str_layout = \"011010120\"\n",
    "\n",
    "while True:\n",
    "    n = 0\n",
    "    election = Election.create_from_string(str_layout + n*\"0\" + str_layout)\n",
    "    if election.check_equilibrium():\n",
    "        print(\"yay! \", n)\n",
    "        break\n",
    "    n += 1"
   ]
  },
  {
   "cell_type": "code",
   "execution_count": 8,
   "metadata": {},
   "outputs": [
    {
     "name": "stdout",
     "output_type": "stream",
     "text": [
      "[0 1 1 0 0 1 1 0]\n"
     ]
    }
   ],
   "source": [
    "from election import Election\n",
    "from itertools import combinations_with_replacement\n",
    "e = Election.create_from_string\n",
    "combination_set = [\"0200\", \"0110\", \"0020\"]\n",
    "for s, t in combinations_with_replacement(combination_set, 2):\n",
    "    r = Election.combine_elections(e(s),e(t))\n",
    "    if r.check_equilibrium():\n",
    "        print(r.layout)"
   ]
  },
  {
   "cell_type": "code",
   "execution_count": 13,
   "metadata": {},
   "outputs": [
    {
     "name": "stdout",
     "output_type": "stream",
     "text": [
      "0 1 1 0 0 1 1 0 1 0 0 1 0 1 1 0 \n"
     ]
    }
   ],
   "source": [
    "statement, election = election.random_find_equilibrium(8, 16)\n",
    "print(election)"
   ]
  },
  {
   "cell_type": "code",
   "execution_count": null,
   "metadata": {},
   "outputs": [],
   "source": [
    "\n",
    "    "
   ]
  },
  {
   "cell_type": "code",
   "execution_count": 16,
   "metadata": {},
   "outputs": [
    {
     "data": {
      "text/plain": [
       "False"
      ]
     },
     "execution_count": 16,
     "metadata": {},
     "output_type": "execute_result"
    }
   ],
   "source": [
    "election = Election.create_from_string(\"11000110\")\n",
    "election.check_equilibrium()"
   ]
  },
  {
   "cell_type": "code",
   "execution_count": 7,
   "metadata": {},
   "outputs": [
    {
     "data": {
      "text/plain": [
       "True"
      ]
     },
     "execution_count": 7,
     "metadata": {},
     "output_type": "execute_result"
    }
   ],
   "source": [
    "election = Election.create_from_string(\"011001100110\")\n",
    "election.check_equilibrium()"
   ]
  },
  {
   "cell_type": "code",
   "execution_count": 10,
   "metadata": {},
   "outputs": [
    {
     "name": "stdout",
     "output_type": "stream",
     "text": [
      "Equilibria for 4 players and 32 spaces:\n",
      "0 0 0 0 0 0 0 1 1 0 0 0 0 0 0 0 0 0 0 0 0 0 0 2 0 0 0 0 0 0 0 0 \n",
      "0 0 0 0 0 0 0 1 1 0 0 0 0 0 0 0 0 0 0 0 0 0 0 1 1 0 0 0 0 0 0 0 \n",
      "0 0 0 0 0 0 0 0 2 0 0 0 0 0 0 0 0 0 0 0 0 0 0 2 0 0 0 0 0 0 0 0 \n",
      "0 0 0 0 0 0 0 0 2 0 0 0 0 0 0 0 0 0 0 0 0 0 0 1 1 0 0 0 0 0 0 0 \n"
     ]
    }
   ],
   "source": [
    "Election.print_all_equilibria(4,32)"
   ]
  },
  {
   "cell_type": "markdown",
   "metadata": {},
   "source": [
    "\"0110011001100110\""
   ]
  },
  {
   "cell_type": "code",
   "execution_count": 3,
   "metadata": {},
   "outputs": [
    {
     "name": "stdout",
     "output_type": "stream",
     "text": [
      "0 1 0 1 \n",
      "1 1 0 0 \n",
      "0 @ 0 :  2.0\n",
      "1 @ 3 :  2.0\n"
     ]
    }
   ],
   "source": [
    "Election.check_equilibrium_from_string(\"1001\")\n",
    "Election.create_from_string(\"1001\").compute_and_print_payoffs()"
   ]
  },
  {
   "cell_type": "code",
   "execution_count": 2,
   "metadata": {},
   "outputs": [
    {
     "name": "stdout",
     "output_type": "stream",
     "text": [
      "--\n",
      "0 2 0 0 \n",
      "0 @ 1 :  2.0\n",
      "1 @ 1 :  2.0\n",
      "--\n",
      "0 1 1 0 \n",
      "0 @ 1 :  2.0\n",
      "1 @ 2 :  2.0\n",
      "--\n",
      "0 0 2 0 \n",
      "0 @ 2 :  2.0\n",
      "1 @ 2 :  2.0\n"
     ]
    }
   ],
   "source": [
    "from election import Election\n",
    "\n",
    "found, elections = Election.thorough_find_all_equilibria(2,4)\n",
    "for election in elections:\n",
    "    print(\"--\")\n",
    "    print(election)\n",
    "    election.compute_and_print_payoffs()"
   ]
  },
  {
   "cell_type": "code",
   "execution_count": 5,
   "metadata": {},
   "outputs": [
    {
     "ename": "KeyboardInterrupt",
     "evalue": "",
     "output_type": "error",
     "traceback": [
      "\u001b[1;31m---------------------------------------------------------------------------\u001b[0m",
      "\u001b[1;31mKeyboardInterrupt\u001b[0m                         Traceback (most recent call last)",
      "\u001b[1;32mg:\\Programming\\UPythonSource\\ElectionAnalyser\\tests.ipynb Cell 15\u001b[0m line \u001b[0;36m3\n\u001b[0;32m      <a href='vscode-notebook-cell:/g%3A/Programming/UPythonSource/ElectionAnalyser/tests.ipynb#X16sZmlsZQ%3D%3D?line=0'>1</a>\u001b[0m \u001b[39mfrom\u001b[39;00m \u001b[39melection\u001b[39;00m \u001b[39mimport\u001b[39;00m Election\n\u001b[1;32m----> <a href='vscode-notebook-cell:/g%3A/Programming/UPythonSource/ElectionAnalyser/tests.ipynb#X16sZmlsZQ%3D%3D?line=2'>3</a>\u001b[0m found, elections \u001b[39m=\u001b[39m Election\u001b[39m.\u001b[39;49mthorough_find_all_equilibria(\u001b[39m7\u001b[39;49m,\u001b[39m16\u001b[39;49m)\n\u001b[0;32m      <a href='vscode-notebook-cell:/g%3A/Programming/UPythonSource/ElectionAnalyser/tests.ipynb#X16sZmlsZQ%3D%3D?line=3'>4</a>\u001b[0m \u001b[39mfor\u001b[39;00m election \u001b[39min\u001b[39;00m elections:\n\u001b[0;32m      <a href='vscode-notebook-cell:/g%3A/Programming/UPythonSource/ElectionAnalyser/tests.ipynb#X16sZmlsZQ%3D%3D?line=4'>5</a>\u001b[0m     \u001b[39mprint\u001b[39m(\u001b[39m\"\u001b[39m\u001b[39m--\u001b[39m\u001b[39m\"\u001b[39m)\n",
      "File \u001b[1;32mg:\\Programming\\UPythonSource\\ElectionAnalyser\\election.py:188\u001b[0m, in \u001b[0;36mElection.thorough_find_all_equilibria\u001b[1;34m(self, num_players, num_spaces)\u001b[0m\n\u001b[0;32m    183\u001b[0m election \u001b[39m=\u001b[39m Election\u001b[39m.\u001b[39mcreate_from_count_and_positions(\n\u001b[0;32m    184\u001b[0m     num_spaces, players_positions\n\u001b[0;32m    185\u001b[0m )\n\u001b[0;32m    187\u001b[0m \u001b[39m# Check for equilibrium\u001b[39;00m\n\u001b[1;32m--> 188\u001b[0m is_equilibrium \u001b[39m=\u001b[39m election\u001b[39m.\u001b[39;49mcheck_equilibrium()\n\u001b[0;32m    190\u001b[0m \u001b[39mif\u001b[39;00m is_equilibrium:\n\u001b[0;32m    191\u001b[0m     equilibria\u001b[39m.\u001b[39mappend(election)\n",
      "File \u001b[1;32mg:\\Programming\\UPythonSource\\ElectionAnalyser\\election.py:96\u001b[0m, in \u001b[0;36mElection.check_equilibrium\u001b[1;34m(self)\u001b[0m\n\u001b[0;32m     92\u001b[0m current_payoff \u001b[39m=\u001b[39m \u001b[39mself\u001b[39m\u001b[39m.\u001b[39mget_player_payoffs()[player]\n\u001b[0;32m     94\u001b[0m \u001b[39mfor\u001b[39;00m space \u001b[39min\u001b[39;00m \u001b[39mrange\u001b[39m(\u001b[39mlen\u001b[39m(\u001b[39mself\u001b[39m\u001b[39m.\u001b[39mlayout)):\n\u001b[0;32m     95\u001b[0m     \u001b[39m# Create a new Election object for each iteration (do we strictly need to create a new one, or could we just store the original and restore when needed?)\u001b[39;00m\n\u001b[1;32m---> 96\u001b[0m     new_election \u001b[39m=\u001b[39m Election(\u001b[39mself\u001b[39;49m\u001b[39m.\u001b[39;49mlayout\u001b[39m.\u001b[39;49mcopy())\n\u001b[0;32m     97\u001b[0m     new_election\u001b[39m.\u001b[39mspace_of_player \u001b[39m=\u001b[39m \u001b[39mself\u001b[39m\u001b[39m.\u001b[39mspace_of_player\u001b[39m.\u001b[39mcopy()\n\u001b[0;32m     99\u001b[0m     \u001b[39m# Move the player to the new space\u001b[39;00m\n",
      "\u001b[1;31mKeyboardInterrupt\u001b[0m: "
     ]
    }
   ],
   "source": [
    "from election import Election\n",
    "\n",
    "found, elections = Election.thorough_find_all_equilibria(7,16)\n",
    "for election in elections:\n",
    "    print(\"--\")\n",
    "    print(election)\n",
    "    election.compute_and_print_payoffs()"
   ]
  },
  {
   "cell_type": "code",
   "execution_count": null,
   "metadata": {},
   "outputs": [],
   "source": [
    "Election.check_equilibrium_from_string(\"0110\")"
   ]
  },
  {
   "cell_type": "code",
   "execution_count": 15,
   "metadata": {},
   "outputs": [
    {
     "data": {
      "text/plain": [
       "False"
      ]
     },
     "execution_count": 15,
     "metadata": {},
     "output_type": "execute_result"
    }
   ],
   "source": [
    "Election.check_equilibrium_from_string(\"10101101\")"
   ]
  },
  {
   "cell_type": "code",
   "execution_count": 7,
   "metadata": {},
   "outputs": [
    {
     "name": "stdout",
     "output_type": "stream",
     "text": [
      "Equilibria for 8 players and 10 spaces:\n",
      "1 1 1 1 1 1 0 1 1 0 \n",
      "1 1 1 1 1 0 1 0 2 0 \n",
      "1 1 1 1 0 2 0 1 1 0 \n",
      "1 1 1 1 0 1 1 0 2 0 \n",
      "1 1 1 1 0 1 0 1 2 0 \n",
      "1 1 1 1 0 1 0 1 1 1 \n",
      "1 1 1 0 2 0 1 0 2 0 \n",
      "1 1 1 0 1 1 1 0 2 0 \n",
      "1 1 1 0 1 1 0 1 2 0 \n",
      "1 1 1 0 1 1 0 1 1 1 \n",
      "1 1 1 0 1 0 2 0 2 0 \n",
      "1 1 1 0 1 0 1 1 2 0 \n",
      "1 1 1 0 1 0 1 1 1 1 \n",
      "0 2 1 1 1 1 0 1 1 0 \n",
      "0 2 1 1 1 0 1 0 2 0 \n",
      "0 2 1 1 0 2 0 1 1 0 \n",
      "0 2 1 1 0 1 1 0 2 0 \n",
      "0 2 1 1 0 1 0 1 2 0 \n",
      "0 2 1 1 0 1 0 1 1 1 \n",
      "0 2 1 0 2 0 1 0 2 0 \n",
      "0 2 1 0 1 1 1 0 2 0 \n",
      "0 2 1 0 1 1 0 1 2 0 \n",
      "0 2 1 0 1 1 0 1 1 1 \n",
      "0 2 1 0 1 0 2 0 2 0 \n",
      "0 2 1 0 1 0 1 1 2 0 \n",
      "0 2 1 0 1 0 1 1 1 1 \n",
      "0 2 0 2 0 2 0 1 1 0 \n",
      "0 2 0 2 0 1 1 0 2 0 \n",
      "0 2 0 2 0 1 0 1 2 0 \n",
      "0 2 0 2 0 1 0 1 1 1 \n",
      "0 2 0 1 1 1 1 0 2 0 \n",
      "0 2 0 1 1 1 0 1 2 0 \n",
      "0 2 0 1 1 1 0 1 1 1 \n",
      "0 2 0 1 1 0 2 0 2 0 \n",
      "0 2 0 1 1 0 1 1 2 0 \n",
      "0 2 0 1 1 0 1 1 1 1 \n",
      "0 2 0 1 0 2 0 1 2 0 \n",
      "0 2 0 1 0 2 0 1 1 1 \n",
      "0 2 0 1 0 1 1 1 2 0 \n",
      "0 2 0 1 0 1 1 1 1 1 \n",
      "0 1 1 0 2 0 2 0 2 0 \n",
      "0 1 1 0 2 0 1 1 2 0 \n",
      "0 1 1 0 2 0 1 1 1 1 \n",
      "0 1 1 0 1 1 1 1 2 0 \n",
      "0 1 1 0 1 1 1 1 1 1 \n"
     ]
    }
   ],
   "source": [
    "Election.print_all_equilibria(8,10)"
   ]
  },
  {
   "cell_type": "code",
   "execution_count": 4,
   "metadata": {},
   "outputs": [
    {
     "ename": "KeyboardInterrupt",
     "evalue": "",
     "output_type": "error",
     "traceback": [
      "\u001b[1;31m---------------------------------------------------------------------------\u001b[0m",
      "\u001b[1;31mKeyboardInterrupt\u001b[0m                         Traceback (most recent call last)",
      "\u001b[1;32mg:\\Programming\\UPythonSource\\ElectionAnalyser\\tests.ipynb Cell 19\u001b[0m line \u001b[0;36m1\n\u001b[1;32m----> <a href='vscode-notebook-cell:/g%3A/Programming/UPythonSource/ElectionAnalyser/tests.ipynb#X23sZmlsZQ%3D%3D?line=0'>1</a>\u001b[0m \u001b[39mprint\u001b[39m(Election\u001b[39m.\u001b[39;49mthorough_find_equilibrium(\u001b[39m8\u001b[39;49m, \u001b[39m15\u001b[39;49m)[\u001b[39m1\u001b[39m])\n",
      "File \u001b[1;32mg:\\Programming\\UPythonSource\\ElectionAnalyser\\election.py:166\u001b[0m, in \u001b[0;36mElection.thorough_find_equilibrium\u001b[1;34m(self, num_players, num_spaces)\u001b[0m\n\u001b[0;32m    161\u001b[0m election \u001b[39m=\u001b[39m Election\u001b[39m.\u001b[39mcreate_from_count_and_positions(\n\u001b[0;32m    162\u001b[0m     num_spaces, players_positions\n\u001b[0;32m    163\u001b[0m )\n\u001b[0;32m    165\u001b[0m \u001b[39m# Check for equilibrium\u001b[39;00m\n\u001b[1;32m--> 166\u001b[0m is_equilibrium \u001b[39m=\u001b[39m election\u001b[39m.\u001b[39;49mcheck_equilibrium()\n\u001b[0;32m    168\u001b[0m \u001b[39mif\u001b[39;00m is_equilibrium:\n\u001b[0;32m    169\u001b[0m     \u001b[39mreturn\u001b[39;00m is_equilibrium, election\n",
      "File \u001b[1;32mg:\\Programming\\UPythonSource\\ElectionAnalyser\\election.py:96\u001b[0m, in \u001b[0;36mElection.check_equilibrium\u001b[1;34m(self)\u001b[0m\n\u001b[0;32m     92\u001b[0m current_payoff \u001b[39m=\u001b[39m \u001b[39mself\u001b[39m\u001b[39m.\u001b[39mget_player_payoffs()[player]\n\u001b[0;32m     94\u001b[0m \u001b[39mfor\u001b[39;00m space \u001b[39min\u001b[39;00m \u001b[39mrange\u001b[39m(\u001b[39mlen\u001b[39m(\u001b[39mself\u001b[39m\u001b[39m.\u001b[39mlayout)):\n\u001b[0;32m     95\u001b[0m     \u001b[39m# Create a new Election object for each iteration (do we strictly need to create a new one, or could we just store the original and restore when needed?)\u001b[39;00m\n\u001b[1;32m---> 96\u001b[0m     new_election \u001b[39m=\u001b[39m Election(\u001b[39mself\u001b[39;49m\u001b[39m.\u001b[39;49mlayout\u001b[39m.\u001b[39;49mcopy())\n\u001b[0;32m     97\u001b[0m     new_election\u001b[39m.\u001b[39mspace_of_player \u001b[39m=\u001b[39m \u001b[39mself\u001b[39m\u001b[39m.\u001b[39mspace_of_player\u001b[39m.\u001b[39mcopy()\n\u001b[0;32m     99\u001b[0m     \u001b[39m# Move the player to the new space\u001b[39;00m\n",
      "\u001b[1;31mKeyboardInterrupt\u001b[0m: "
     ]
    }
   ],
   "source": [
    "print(Election.thorough_find_equilibrium(8, 15)[1])"
   ]
  },
  {
   "cell_type": "code",
   "execution_count": 16,
   "metadata": {},
   "outputs": [
    {
     "data": {
      "text/plain": [
       "False"
      ]
     },
     "execution_count": 16,
     "metadata": {},
     "output_type": "execute_result"
    }
   ],
   "source": [
    "Election.check_equilibrium_from_string(\"0 0 0 0 1 1 1 1 1\")"
   ]
  }
 ],
 "metadata": {
  "kernelspec": {
   "display_name": "Python 3",
   "language": "python",
   "name": "python3"
  },
  "language_info": {
   "codemirror_mode": {
    "name": "ipython",
    "version": 3
   },
   "file_extension": ".py",
   "mimetype": "text/x-python",
   "name": "python",
   "nbconvert_exporter": "python",
   "pygments_lexer": "ipython3",
   "version": "3.12.0"
  }
 },
 "nbformat": 4,
 "nbformat_minor": 2
}
